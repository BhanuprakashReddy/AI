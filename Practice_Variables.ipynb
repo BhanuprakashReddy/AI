{
  "nbformat": 4,
  "nbformat_minor": 0,
  "metadata": {
    "colab": {
      "provenance": [],
      "authorship_tag": "ABX9TyNaJ5vNARBJbqMnP5USRdKW",
      "include_colab_link": true
    },
    "kernelspec": {
      "name": "python3",
      "display_name": "Python 3"
    },
    "language_info": {
      "name": "python"
    }
  },
  "cells": [
    {
      "cell_type": "markdown",
      "metadata": {
        "id": "view-in-github",
        "colab_type": "text"
      },
      "source": [
        "<a href=\"https://colab.research.google.com/github/BhanuprakashReddy/AI/blob/master/Practice_Variables.ipynb\" target=\"_parent\"><img src=\"https://colab.research.google.com/assets/colab-badge.svg\" alt=\"Open In Colab\"/></a>"
      ]
    },
    {
      "cell_type": "code",
      "execution_count": 4,
      "metadata": {
        "colab": {
          "base_uri": "https://localhost:8080/"
        },
        "id": "bZQu3eci_j8v",
        "outputId": "e803a903-a351-48d4-db83-a0a1d4526161"
      },
      "outputs": [
        {
          "output_type": "stream",
          "name": "stdout",
          "text": [
            "<class 'str'>\n",
            "b'Bhanu'\n"
          ]
        }
      ],
      "source": [
        "a='Bhanu'\n",
        "#a='äsha'\n",
        "print(type(a))\n",
        "print(a.encode())"
      ]
    },
    {
      "cell_type": "code",
      "source": [
        "import pandas as pd\n",
        "data = {'Name': ['John', 'Mary', 'Peter', 'Alice', 'David'],\n",
        "        'Age': [20, 25, 30, 22, 28]}\n",
        "df = pd.DataFrame(data)\n",
        "\n",
        "# Select all rows where Age is greater than 25\n",
        "filtered_df = df[df['Age'] > 25]\n",
        "\n",
        "# Select all rows where Age is greater than 25 and Name starts with 'M'\n",
        "filtered_df = df[(df['Age'] > 25) & (df['Name'].str.startswith('M'))]\n",
        "\n",
        "\n",
        "# Select all rows where Age is greater than 25 and Name starts with 'M'\n",
        "filtered_df = df[(df['Age'] > 25) & (df['Name'].str.startswith('M'))]\n",
        "\n",
        "# Select all rows where Name is either 'John' or 'Alice'\n",
        "filtered_df = df[df['Name'].isin(['John', 'Alice'])]\n",
        "\n",
        "# Select all rows where Name ends with 'n'\n",
        "filtered_df = df[df['Name'].str.endswith('n')]\n",
        "\n",
        "# Select all rows where Age is even\n",
        "filtered_df = df[lambda x: x['Age'] % 2 == 0]"
      ],
      "metadata": {
        "id": "9Nq218WuOB5T"
      },
      "execution_count": 1,
      "outputs": []
    },
    {
      "cell_type": "code",
      "source": [
        "String_a = \"I need Tables, Chairs, Cupboards\"\n",
        "String_b = 'Tests, Quizzes Individual Labs Group Labs and Hackathons'\n",
        "print (String_a , String_b)"
      ],
      "metadata": {
        "colab": {
          "base_uri": "https://localhost:8080/"
        },
        "id": "51Gm6MiaQIRY",
        "outputId": "e8484561-23ec-4f50-df92-301500555b7c"
      },
      "execution_count": 9,
      "outputs": [
        {
          "output_type": "stream",
          "name": "stdout",
          "text": [
            "I need Tables, Chairs, Cupboards Tests, Quizzes Individual Labs Group Labs and Hackathons\n"
          ]
        }
      ]
    }
  ]
}