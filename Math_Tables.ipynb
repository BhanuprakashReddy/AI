{
  "nbformat": 4,
  "nbformat_minor": 0,
  "metadata": {
    "colab": {
      "provenance": [],
      "authorship_tag": "ABX9TyPaScA9zUXHpSl+jlq1ZQbY",
      "include_colab_link": true
    },
    "kernelspec": {
      "name": "python3",
      "display_name": "Python 3"
    },
    "language_info": {
      "name": "python"
    }
  },
  "cells": [
    {
      "cell_type": "markdown",
      "metadata": {
        "id": "view-in-github",
        "colab_type": "text"
      },
      "source": [
        "<a href=\"https://colab.research.google.com/github/BhanuprakashReddy/AI/blob/master/Math_Tables.ipynb\" target=\"_parent\"><img src=\"https://colab.research.google.com/assets/colab-badge.svg\" alt=\"Open In Colab\"/></a>"
      ]
    },
    {
      "cell_type": "code",
      "execution_count": null,
      "metadata": {
        "id": "61O1Tk4YyxK3"
      },
      "outputs": [],
      "source": [
        "num = 5\n",
        "max = 10\n",
        "for i in range(1, max+1):\n",
        "  print(\"{} x {} = {}\".format(num, i, num*i))"
      ]
    },
    {
      "cell_type": "code",
      "source": [
        "num = 6\n",
        "max = 10\n",
        "for i in range(1, max+1):\n",
        "  print(f\"{num} x {i} = {num*i}\")"
      ],
      "metadata": {
        "colab": {
          "base_uri": "https://localhost:8080/"
        },
        "id": "FQREGzTIzXI2",
        "outputId": "1086d858-6c3c-4de0-f24c-b0b2ce4a1e99"
      },
      "execution_count": 6,
      "outputs": [
        {
          "output_type": "stream",
          "name": "stdout",
          "text": [
            "6 x 1 = 6\n",
            "6 x 2 = 12\n",
            "6 x 3 = 18\n",
            "6 x 4 = 24\n",
            "6 x 5 = 30\n",
            "6 x 6 = 36\n",
            "6 x 7 = 42\n",
            "6 x 8 = 48\n",
            "6 x 9 = 54\n",
            "6 x 10 = 60\n"
          ]
        }
      ]
    }
  ]
}